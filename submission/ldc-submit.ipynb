{
  "nbformat": 4,
  "nbformat_minor": 0,
  "metadata": {
    "colab": {
      "name": "LDC-submit.ipynb",
      "version": "0.3.2",
      "provenance": [],
      "collapsed_sections": []
    },
    "kernelspec": {
      "name": "python3",
      "display_name": "Python 3"
    }
  },
  "cells": [
    {
      "metadata": {
        "id": "Hnhp0Pjt77tB",
        "colab_type": "text"
      },
      "cell_type": "markdown",
      "source": [
        "# Writing LDC solution files from Python "
      ]
    },
    {
      "metadata": {
        "id": "mIHCMPeqDalJ",
        "colab_type": "text"
      },
      "cell_type": "markdown",
      "source": [
        "Michele, 2018/01/24"
      ]
    },
    {
      "metadata": {
        "id": "9wo_u3dh7-ws",
        "colab_type": "code",
        "colab": {}
      },
      "cell_type": "code",
      "source": [
        "import yaml\n",
        "import numpy\n",
        "import csv\n",
        "import pandas"
      ],
      "execution_count": 0,
      "outputs": []
    },
    {
      "metadata": {
        "id": "fI6DHpz98AHV",
        "colab_type": "code",
        "colab": {}
      },
      "cell_type": "code",
      "source": [
        "entry = {'author': 'Michele Vallisneri',\n",
        "         'e-mail': 'vallis@vallis.org',\n",
        "         'date': '2018/03/20',           # standardize?\n",
        "         'challenge': 'LDC1',\n",
        "         'dataset': 'LDC1-1-MBHB'}"
      ],
      "execution_count": 0,
      "outputs": []
    },
    {
      "metadata": {
        "id": "uMBmUg7f8Ikg",
        "colab_type": "text"
      },
      "cell_type": "markdown",
      "source": [
        "## A point estimate, from a Python dict"
      ]
    },
    {
      "metadata": {
        "id": "4Wclver48Swx",
        "colab_type": "text"
      },
      "cell_type": "markdown",
      "source": [
        "It's understood that we use standard LVC units."
      ]
    },
    {
      "metadata": {
        "id": "7ZO12jBP8KqZ",
        "colab_type": "code",
        "colab": {}
      },
      "cell_type": "code",
      "source": [
        "mbhb = {'Approximant': 'IMRPhenomD',\n",
        "        'AzimuthalAngleOfSpin1': 5.840950175706398,\n",
        "        'AzimuthalAngleOfSpin2': 1.9878462360990703,\n",
        "        'CoalescenceTime': 6951400.0,\n",
        "        'Distance': 42.98096306767939,\n",
        "        'EclipticLatitude': 0.8967163267948965,\n",
        "        'EclipticLongitude': 4.5844,\n",
        "        'InitialAzimuthalAngleL': 1.1555959752434493,\n",
        "        'InitialPolarAngleL': 1.9528,\n",
        "        'Mass1': 1869759.731,\n",
        "        'Mass2': 565846.141,\n",
        "        'ObservationDuration': 7864320.0,\n",
        "        'PhaseAtCoalescence': 1.2852901366370226,\n",
        "        'PolarAngleOfSpin1': 0.0,\n",
        "        'PolarAngleOfSpin2': 0.0,\n",
        "        'Redshift': 4.5699,\n",
        "        'Spin1': 0.7764685576250351,\n",
        "        'Spin2': 0.9532320445857974}"
      ],
      "execution_count": 0,
      "outputs": []
    },
    {
      "metadata": {
        "id": "W-wpw9GU8xt9",
        "colab_type": "text"
      },
      "cell_type": "markdown",
      "source": [
        "Use multiple list items for multiple sources."
      ]
    },
    {
      "metadata": {
        "id": "wmKli-138WaP",
        "colab_type": "code",
        "colab": {}
      },
      "cell_type": "code",
      "source": [
        "entry['estimates'] = [mbhb]"
      ],
      "execution_count": 0,
      "outputs": []
    },
    {
      "metadata": {
        "id": "MBr49KwM8Z1e",
        "colab_type": "code",
        "colab": {
          "base_uri": "https://localhost:8080/",
          "height": 34
        },
        "outputId": "eefe3c80-ad95-4abf-ed52-e91e21a85296"
      },
      "cell_type": "code",
      "source": [
        "open('vallisneri-ldc1-1-mbhb.yaml','w').write(yaml.dump(entry, default_flow_style=False))"
      ],
      "execution_count": 8,
      "outputs": [
        {
          "output_type": "execute_result",
          "data": {
            "text/plain": [
              "671"
            ]
          },
          "metadata": {
            "tags": []
          },
          "execution_count": 8
        }
      ]
    },
    {
      "metadata": {
        "id": "loj0AI8C8jgH",
        "colab_type": "code",
        "colab": {
          "base_uri": "https://localhost:8080/",
          "height": 456
        },
        "outputId": "b510d583-3337-4efd-8d1a-ce6528d90263"
      },
      "cell_type": "code",
      "source": [
        "!cat vallisneri-ldc1-1-mbhb.yaml"
      ],
      "execution_count": 9,
      "outputs": [
        {
          "output_type": "stream",
          "text": [
            "author: Michele Vallisneri\n",
            "challenge: LDC1\n",
            "dataset: LDC1-1-MBHB\n",
            "date: 2018/03/20\n",
            "e-mail: vallis@vallis.org\n",
            "estimates:\n",
            "- Approximant: IMRPhenomD\n",
            "  AzimuthalAngleOfSpin1: 5.840950175706398\n",
            "  AzimuthalAngleOfSpin2: 1.9878462360990703\n",
            "  CoalescenceTime: 6951400.0\n",
            "  Distance: 42.98096306767939\n",
            "  EclipticLatitude: 0.8967163267948965\n",
            "  EclipticLongitude: 4.5844\n",
            "  InitialAzimuthalAngleL: 1.1555959752434493\n",
            "  InitialPolarAngleL: 1.9528\n",
            "  Mass1: 1869759.731\n",
            "  Mass2: 565846.141\n",
            "  ObservationDuration: 7864320.0\n",
            "  PhaseAtCoalescence: 1.2852901366370226\n",
            "  PolarAngleOfSpin1: 0.0\n",
            "  PolarAngleOfSpin2: 0.0\n",
            "  Redshift: 4.5699\n",
            "  Spin1: 0.7764685576250351\n",
            "  Spin2: 0.9532320445857974\n"
          ],
          "name": "stdout"
        }
      ]
    },
    {
      "metadata": {
        "id": "zZ5IOCQg8vk1",
        "colab_type": "text"
      },
      "cell_type": "markdown",
      "source": [
        "## With errors (here we make them up, but you would get them from elsewhere)"
      ]
    },
    {
      "metadata": {
        "id": "dyuhjNWb87WD",
        "colab_type": "code",
        "colab": {}
      },
      "cell_type": "code",
      "source": [
        "mbhb_werr = {key: '{} +/- {}'.format(value, value * 0.01) if isinstance(value, float) else value\n",
        "             for key, value in mbhb.items()}"
      ],
      "execution_count": 0,
      "outputs": []
    },
    {
      "metadata": {
        "id": "_ksX4Zvq9_t4",
        "colab_type": "code",
        "colab": {}
      },
      "cell_type": "code",
      "source": [
        "entry['estimates'] = [mbhb_werr]\n",
        "entry['notes'] = '1-sigma errors'"
      ],
      "execution_count": 0,
      "outputs": []
    },
    {
      "metadata": {
        "id": "DczzUJ_O9llo",
        "colab_type": "code",
        "colab": {
          "base_uri": "https://localhost:8080/",
          "height": 34
        },
        "outputId": "a86cd9fb-008e-4519-c8f9-975b0e3f244b"
      },
      "cell_type": "code",
      "source": [
        "open('vallisneri-ldc1-1-mbhb_werr.yaml','w').write(yaml.dump(entry, default_flow_style=False))"
      ],
      "execution_count": 28,
      "outputs": [
        {
          "output_type": "execute_result",
          "data": {
            "text/plain": [
              "1013"
            ]
          },
          "metadata": {
            "tags": []
          },
          "execution_count": 28
        }
      ]
    },
    {
      "metadata": {
        "id": "bQpZiwh19nzz",
        "colab_type": "code",
        "colab": {
          "base_uri": "https://localhost:8080/",
          "height": 473
        },
        "outputId": "73eae33c-d80c-4688-fe95-d6f86bed1e50"
      },
      "cell_type": "code",
      "source": [
        "!cat vallisneri-ldc1-1-mbhb_werr.yaml"
      ],
      "execution_count": 29,
      "outputs": [
        {
          "output_type": "stream",
          "text": [
            "author: Michele Vallisneri\n",
            "challenge: LDC1\n",
            "dataset: LDC1-1-MBHB\n",
            "date: 2018/03/20\n",
            "e-mail: vallis@vallis.org\n",
            "estimates:\n",
            "- Approximant: IMRPhenomD\n",
            "  AzimuthalAngleOfSpin1: 5.840950175706398 +/- 0.058409501757063984\n",
            "  AzimuthalAngleOfSpin2: 1.9878462360990703 +/- 0.019878462360990702\n",
            "  CoalescenceTime: 6951400.0 +/- 69514.0\n",
            "  Distance: 42.98096306767939 +/- 0.4298096306767939\n",
            "  EclipticLatitude: 0.8967163267948965 +/- 0.008967163267948965\n",
            "  EclipticLongitude: 4.5844 +/- 0.045843999999999996\n",
            "  InitialAzimuthalAngleL: 1.1555959752434493 +/- 0.011555959752434493\n",
            "  InitialPolarAngleL: 1.9528 +/- 0.019528\n",
            "  Mass1: 1869759.731 +/- 18697.59731\n",
            "  Mass2: 565846.141 +/- 5658.46141\n",
            "  ObservationDuration: 7864320.0 +/- 78643.2\n",
            "  PhaseAtCoalescence: 1.2852901366370226 +/- 0.012852901366370226\n",
            "  PolarAngleOfSpin1: 0.0 +/- 0.0\n",
            "  PolarAngleOfSpin2: 0.0 +/- 0.0\n",
            "  Redshift: 4.5699 +/- 0.045699\n",
            "  Spin1: 0.7764685576250351 +/- 0.007764685576250351\n",
            "  Spin2: 0.9532320445857974 +/- 0.009532320445857974\n",
            "notes: 1-sigma errors\n"
          ],
          "name": "stdout"
        }
      ]
    },
    {
      "metadata": {
        "id": "58-Nv41s-Cbb",
        "colab_type": "text"
      },
      "cell_type": "markdown",
      "source": [
        "## With ranges"
      ]
    },
    {
      "metadata": {
        "id": "UcWfWPPn-MMB",
        "colab_type": "code",
        "colab": {}
      },
      "cell_type": "code",
      "source": [
        "mbhb_range = {key: '{} + {} - {}'.format(value, value * 0.02, value * 0.01) if isinstance(value, float) else value\n",
        "             for key, value in mbhb.items()}"
      ],
      "execution_count": 0,
      "outputs": []
    },
    {
      "metadata": {
        "id": "kWU8Imtj-RUI",
        "colab_type": "code",
        "colab": {}
      },
      "cell_type": "code",
      "source": [
        "entry['estimates'] = [mbhb_range]\n",
        "entry['notes'] = '90% symmetric credible interval'"
      ],
      "execution_count": 0,
      "outputs": []
    },
    {
      "metadata": {
        "id": "7i5oYAqA-TLK",
        "colab_type": "code",
        "colab": {
          "base_uri": "https://localhost:8080/",
          "height": 34
        },
        "outputId": "8abf0c6b-d33f-4312-8eb7-ef8aad6a76cf"
      },
      "cell_type": "code",
      "source": [
        "open('vallisneri-ldc1-1-mbhb_range.yaml','w').write(yaml.dump(entry, default_flow_style=False))"
      ],
      "execution_count": 31,
      "outputs": [
        {
          "output_type": "execute_result",
          "data": {
            "text/plain": [
              "1280"
            ]
          },
          "metadata": {
            "tags": []
          },
          "execution_count": 31
        }
      ]
    },
    {
      "metadata": {
        "id": "iVKAPtpW-WXI",
        "colab_type": "code",
        "colab": {
          "base_uri": "https://localhost:8080/",
          "height": 473
        },
        "outputId": "8822428d-f03b-4065-bb74-5d9fbcc3c79d"
      },
      "cell_type": "code",
      "source": [
        "!cat vallisneri-ldc1-1-mbhb_range.yaml"
      ],
      "execution_count": 32,
      "outputs": [
        {
          "output_type": "stream",
          "text": [
            "author: Michele Vallisneri\n",
            "challenge: LDC1\n",
            "dataset: LDC1-1-MBHB\n",
            "date: 2018/03/20\n",
            "e-mail: vallis@vallis.org\n",
            "estimates:\n",
            "- Approximant: IMRPhenomD\n",
            "  AzimuthalAngleOfSpin1: 5.840950175706398 + 0.11681900351412797 - 0.058409501757063984\n",
            "  AzimuthalAngleOfSpin2: 1.9878462360990703 + 0.039756924721981404 - 0.019878462360990702\n",
            "  CoalescenceTime: 6951400.0 + 139028.0 - 69514.0\n",
            "  Distance: 42.98096306767939 + 0.8596192613535878 - 0.4298096306767939\n",
            "  EclipticLatitude: 0.8967163267948965 + 0.01793432653589793 - 0.008967163267948965\n",
            "  EclipticLongitude: 4.5844 + 0.09168799999999999 - 0.045843999999999996\n",
            "  InitialAzimuthalAngleL: 1.1555959752434493 + 0.023111919504868985 - 0.011555959752434493\n",
            "  InitialPolarAngleL: 1.9528 + 0.039056 - 0.019528\n",
            "  Mass1: 1869759.731 + 37395.19462 - 18697.59731\n",
            "  Mass2: 565846.141 + 11316.92282 - 5658.46141\n",
            "  ObservationDuration: 7864320.0 + 157286.4 - 78643.2\n",
            "  PhaseAtCoalescence: 1.2852901366370226 + 0.02570580273274045 - 0.012852901366370226\n",
            "  PolarAngleOfSpin1: 0.0 + 0.0 - 0.0\n",
            "  PolarAngleOfSpin2: 0.0 + 0.0 - 0.0\n",
            "  Redshift: 4.5699 + 0.091398 - 0.045699\n",
            "  Spin1: 0.7764685576250351 + 0.015529371152500701 - 0.007764685576250351\n",
            "  Spin2: 0.9532320445857974 + 0.01906464089171595 - 0.009532320445857974\n",
            "notes: 90% symmetric credible interval\n"
          ],
          "name": "stdout"
        }
      ]
    },
    {
      "metadata": {
        "id": "BoyAvoI_-YIf",
        "colab_type": "text"
      },
      "cell_type": "markdown",
      "source": [
        "## A posterior table, from a numpy array"
      ]
    },
    {
      "metadata": {
        "id": "gmYStEX__hqo",
        "colab_type": "text"
      },
      "cell_type": "markdown",
      "source": [
        "From a numpy record array"
      ]
    },
    {
      "metadata": {
        "id": "cd0FREygAway",
        "colab_type": "code",
        "colab": {}
      },
      "cell_type": "code",
      "source": [
        "data = [\n",
        "  (4.8908821708884735, 1.5460060013664052, 4324656.315551391, 25.642845661320468, 1.2194904729285574, 4.686341474665391, 1.2740061529649527, 1.3330566174667695, 1784701.939438695, 457182.77187423554, 5881719.4575513, 1.5212830832967217, 0.0, 0.0, 2.9622155601664737, 0.41639953501916444, 1.0343992643675077),\n",
        "  (8.684164994336445, 1.4052110735792605, 10376435.507735997, 60.83085168324085, 1.297041674145907, 5.052143572047124, 1.4614466300160274, 2.2300049033571883, 2363373.79770696, 495400.17013027763, 10170946.401273597, 1.4649598745060766, 0.0, 0.0, 6.699156916238389, 0.7823199513909396, 0.735225436712713),\n",
        "  (8.38434101405832, 2.4577287030423856, 4344303.48363407, 37.27435214416811, 1.0766116453698937, 3.5861815768819127, 1.5030376452206242, 1.1409467862106235, 1233042.6989602582, 547161.5154032222, 8516245.301316261, 1.50219513263902, 0.0, 0.0, 6.601707574372206, 0.6898851017760474, 1.08890865539006),\n",
        "  (4.105718839027102, 1.048610102483512, 8080662.914447719, 41.09190763200143, 1.223390106058258, 3.2311360158146374, 1.3915896123111615, 2.6962450292775566, 2193867.6673531863, 461803.5574972181, 9495133.821201583, 1.475495896233835, 0.0, 0.0, 4.853810737440546, 1.0366064177036767, 1.1499016260791415),\n",
        "  (3.1288733319513997, 1.474468061212711, 5742248.26388303, 39.44032467967417, 0.5801450090513351, 4.889514611216915, 0.5800464016371374, 2.2000832500671157, 1719799.9549116236, 362300.53101553954, 10808215.653716074, 1.1959359110805288, 0.0, 0.0, 6.52642314533135, 0.6499408988225679, 1.0234107106005539),\n",
        "  (4.840162095744612, 1.2874693739375516, 5207249.504983292, 38.58139966701306, 0.5585257036072303, 5.109235557541615, 0.6835565851108776, 1.3894193362618754, 1393152.565941811, 821974.4017675591, 8954926.546863833, 0.8814127196192482, 0.0, 0.0, 6.539253904402884, 0.7931146901533852, 0.6957682582093728),\n",
        "  (7.184024275861983, 1.5883628344291574, 3767150.264467211, 60.08500489611168, 1.1136839792403004, 4.904327625115061, 0.9266884338914609, 1.5120793832933936, 2109668.4548874456, 479308.4345831946, 9093809.392609451, 0.6622686104231106, 0.0, 0.0, 3.2312601393799056, 0.5174682267061629, 1.1453143797996632),\n",
        "  (4.107439318935789, 1.5910065343637594, 8394046.698290702, 55.52814691200299, 0.7428434153639929, 2.5121356286665364, 1.5633165906867512, 2.0809097677407378, 2198704.9103707555, 380877.95117818407, 5105925.196598402, 0.9266007424306463, 0.0, 0.0, 4.535455276658778, 0.9357650170042532, 0.9014108959808038),\n",
        "  (4.303055435848317, 1.2704504592906316, 3588119.9602917153, 24.445935419462494, 1.29598883186431, 2.3795204550314004, 0.8474183512639252, 1.4598637842776494, 1520444.7403628854, 522739.0161866422, 8075305.94559643, 1.4445763807919985, 0.0, 0.0, 6.659767886104075, 0.5644639400104602, 1.3348777396087947),\n",
        "  (6.5811650487897975, 2.8196456389675912, 5947291.389861457, 41.58416698591603, 0.9970408540437337, 3.1018356255765815, 0.9536458778321061, 1.4327838283774479, 2324168.7104270733, 773970.1200140833, 5594227.950088419, 1.2169689092507545, 0.0, 0.0, 4.432040213974238, 0.795873853220179, 1.1302318107205973)\n",
        "]"
      ],
      "execution_count": 0,
      "outputs": []
    },
    {
      "metadata": {
        "id": "SKH09IP5A7eX",
        "colab_type": "code",
        "colab": {}
      },
      "cell_type": "code",
      "source": [
        "recarray = numpy.array(data,dtype=[('AzimuthalAngleOfSpin1', '<f8'),\n",
        "                                   ('AzimuthalAngleOfSpin2', '<f8'),\n",
        "                                   ('CoalescenceTime', '<f8'),\n",
        "                                   ('Distance', '<f8'),\n",
        "                                   ('EclipticLatitude', '<f8'),\n",
        "                                   ('EclipticLongitude', '<f8'),\n",
        "                                   ('InitialAzimuthalAngleL', '<f8'),\n",
        "                                   ('InitialPolarAngleL', '<f8'),\n",
        "                                   ('Mass1', '<f8'),\n",
        "                                   ('Mass2', '<f8'),\n",
        "                                   ('ObservationDuration', '<f8'),\n",
        "                                   ('PhaseAtCoalescence', '<f8'),\n",
        "                                   ('PolarAngleOfSpin1', '<f8'),\n",
        "                                   ('PolarAngleOfSpin2', '<f8'),\n",
        "                                   ('Redshift', '<f8'),\n",
        "                                   ('Spin1', '<f8'),\n",
        "                                   ('Spin2', '<f8')])"
      ],
      "execution_count": 0,
      "outputs": []
    },
    {
      "metadata": {
        "id": "8hnaIXOvBOTd",
        "colab_type": "code",
        "colab": {}
      },
      "cell_type": "code",
      "source": [
        "numpy.savetxt('mbhb-1-pdf.csv', recarray,\n",
        "              header=','.join(recarray.dtype.names),\n",
        "              delimiter=',')"
      ],
      "execution_count": 0,
      "outputs": []
    },
    {
      "metadata": {
        "id": "RGz3JBWjBk-U",
        "colab_type": "code",
        "colab": {
          "base_uri": "https://localhost:8080/",
          "height": 265
        },
        "outputId": "c8d1000e-15c8-4be0-ac6f-18f07c093ee8"
      },
      "cell_type": "code",
      "source": [
        "!cat mbhb-1-pdf.csv"
      ],
      "execution_count": 73,
      "outputs": [
        {
          "output_type": "stream",
          "text": [
            "# AzimuthalAngleOfSpin1,AzimuthalAngleOfSpin2,CoalescenceTime,Distance,EclipticLatitude,EclipticLongitude,InitialAzimuthalAngleL,InitialPolarAngleL,Mass1,Mass2,ObservationDuration,PhaseAtCoalescence,PolarAngleOfSpin1,PolarAngleOfSpin2,Redshift,Spin1,Spin2\n",
            "4.890882170888473546e+00,1.546006001366405203e+00,4.324656315551390871e+06,2.564284566132046805e+01,1.219490472928557390e+00,4.686341474665391083e+00,1.274006152964952676e+00,1.333056617466769511e+00,1.784701939438695088e+06,4.571827718742355355e+05,5.881719457551299594e+06,1.521283083296721683e+00,0.000000000000000000e+00,0.000000000000000000e+00,2.962215560166473693e+00,4.163995350191644351e-01,1.034399264367507731e+00\n",
            "8.684164994336445176e+00,1.405211073579260450e+00,1.037643550773599744e+07,6.083085168324085146e+01,1.297041674145906986e+00,5.052143572047124387e+00,1.461446630016027370e+00,2.230004903357188262e+00,2.363373797706959769e+06,4.954001701302776346e+05,1.017094640127359703e+07,1.464959874506076565e+00,0.000000000000000000e+00,0.000000000000000000e+00,6.699156916238388604e+00,7.823199513909395719e-01,7.352254367127130097e-01\n",
            "8.384341014058319885e+00,2.457728703042385554e+00,4.344303483634069562e+06,3.727435214416811249e+01,1.076611645369893733e+00,3.586181576881912747e+00,1.503037645220624219e+00,1.140946786210623509e+00,1.233042698960258160e+06,5.471615154032221762e+05,8.516245301316261292e+06,1.502195132639019937e+00,0.000000000000000000e+00,0.000000000000000000e+00,6.601707574372206011e+00,6.898851017760474491e-01,1.088908655390059987e+00\n",
            "4.105718839027102440e+00,1.048610102483511941e+00,8.080662914447719231e+06,4.109190763200142982e+01,1.223390106058257931e+00,3.231136015814637386e+00,1.391589612311161517e+00,2.696245029277556604e+00,2.193867667353186291e+06,4.618035574972180766e+05,9.495133821201583371e+06,1.475495896233834925e+00,0.000000000000000000e+00,0.000000000000000000e+00,4.853810737440546141e+00,1.036606417703676675e+00,1.149901626079141481e+00\n",
            "3.128873331951399717e+00,1.474468061212711012e+00,5.742248263883030042e+06,3.944032467967416977e+01,5.801450090513351476e-01,4.889514611216915441e+00,5.800464016371373877e-01,2.200083250067115692e+00,1.719799954911623616e+06,3.623005310155395418e+05,1.080821565371607430e+07,1.195935911080528768e+00,0.000000000000000000e+00,0.000000000000000000e+00,6.526423145331349929e+00,6.499408988225678918e-01,1.023410710600553886e+00\n",
            "4.840162095744611648e+00,1.287469373937551564e+00,5.207249504983291961e+06,3.858139966701305923e+01,5.585257036072303061e-01,5.109235557541614625e+00,6.835565851108775792e-01,1.389419336261875415e+00,1.393152565941811074e+06,8.219744017675591167e+05,8.954926546863833442e+06,8.814127196192481639e-01,0.000000000000000000e+00,0.000000000000000000e+00,6.539253904402883677e+00,7.931146901533852045e-01,6.957682582093728252e-01\n",
            "7.184024275861983000e+00,1.588362834429157378e+00,3.767150264467210975e+06,6.008500489611167694e+01,1.113683979240300381e+00,4.904327625115061373e+00,9.266884338914609387e-01,1.512079383293393642e+00,2.109668454887445550e+06,4.793084345831946121e+05,9.093809392609450966e+06,6.622686104231105819e-01,0.000000000000000000e+00,0.000000000000000000e+00,3.231260139379905638e+00,5.174682267061628815e-01,1.145314379799663218e+00\n",
            "4.107439318935789174e+00,1.591006534363759384e+00,8.394046698290701956e+06,5.552814691200298824e+01,7.428434153639928983e-01,2.512135628666536391e+00,1.563316590686751217e+00,2.080909767740737770e+00,2.198704910370755475e+06,3.808779511781840702e+05,5.105925196598402224e+06,9.266007424306462736e-01,0.000000000000000000e+00,0.000000000000000000e+00,4.535455276658778345e+00,9.357650170042531856e-01,9.014108959808038168e-01\n",
            "4.303055435848317067e+00,1.270450459290631606e+00,3.588119960291715339e+06,2.444593541946249360e+01,1.295988831864310020e+00,2.379520455031400417e+00,8.474183512639251736e-01,1.459863784277649401e+00,1.520444740362885408e+06,5.227390161866422277e+05,8.075305945596430451e+06,1.444576380791998460e+00,0.000000000000000000e+00,0.000000000000000000e+00,6.659767886104074996e+00,5.644639400104601856e-01,1.334877739608794744e+00\n",
            "6.581165048789797467e+00,2.819645638967591239e+00,5.947291389861457050e+06,4.158416698591602767e+01,9.970408540437336598e-01,3.101835625576581545e+00,9.536458778321060814e-01,1.432783828377447888e+00,2.324168710427073296e+06,7.739701200140833389e+05,5.594227950088419020e+06,1.216968909250754516e+00,0.000000000000000000e+00,0.000000000000000000e+00,4.432040213974238085e+00,7.958738532201790061e-01,1.130231810720597307e+00\n"
          ],
          "name": "stdout"
        }
      ]
    },
    {
      "metadata": {
        "id": "PGmSu2V8-vsP",
        "colab_type": "text"
      },
      "cell_type": "markdown",
      "source": [
        "Use multiple table files for multiple sources"
      ]
    },
    {
      "metadata": {
        "id": "ZCft7mbM-ma7",
        "colab_type": "code",
        "colab": {}
      },
      "cell_type": "code",
      "source": [
        "entry = {'author': 'Michele Vallisneri',\n",
        "         'e-mail': 'vallis@vallis.org',\n",
        "         'date': '2018/03/20',           # standardize?\n",
        "         'challenge': 'LDC1',\n",
        "         'dataset': 'LDC1-1-MBHB',\n",
        "         'posteriors': ['mbhb-1-pdf.csv']}"
      ],
      "execution_count": 0,
      "outputs": []
    },
    {
      "metadata": {
        "id": "CWxXG23cCKK8",
        "colab_type": "code",
        "colab": {
          "base_uri": "https://localhost:8080/",
          "height": 34
        },
        "outputId": "9c89ac7e-1c39-4008-af3d-b5e7bca0e96f"
      },
      "cell_type": "code",
      "source": [
        "open('vallisneri-ldc1-1-mbhb_posteriors.yaml','w').write(yaml.dump(entry, default_flow_style=False))"
      ],
      "execution_count": 75,
      "outputs": [
        {
          "output_type": "execute_result",
          "data": {
            "text/plain": [
              "136"
            ]
          },
          "metadata": {
            "tags": []
          },
          "execution_count": 75
        }
      ]
    },
    {
      "metadata": {
        "id": "DOwxFEKbCOzO",
        "colab_type": "code",
        "colab": {
          "base_uri": "https://localhost:8080/",
          "height": 167
        },
        "outputId": "a7c14ae4-0148-4ab8-d232-04998176682f"
      },
      "cell_type": "code",
      "source": [
        "!cat vallisneri-ldc1-1-mbhb_posteriors.yaml"
      ],
      "execution_count": 76,
      "outputs": [
        {
          "output_type": "stream",
          "text": [
            "author: Michele Vallisneri\n",
            "challenge: LDC1\n",
            "dataset: LDC1-1-MBHB\n",
            "date: 2018/03/20\n",
            "e-mail: vallis@vallis.org\n",
            "posteriors:\n",
            "- mbhb-1-pdf.csv\n"
          ],
          "name": "stdout"
        }
      ]
    },
    {
      "metadata": {
        "id": "Z4ZKkq-1CcEI",
        "colab_type": "text"
      },
      "cell_type": "markdown",
      "source": [
        "## A posterior table, from a Pandas DataFrame"
      ]
    },
    {
      "metadata": {
        "id": "0BXOWdCVCncz",
        "colab_type": "code",
        "colab": {}
      },
      "cell_type": "code",
      "source": [
        "columns = ('AzimuthalAngleOfSpin1',\n",
        "           'AzimuthalAngleOfSpin2',\n",
        "           'CoalescenceTime',\n",
        "           'Distance',\n",
        "           'EclipticLatitude',\n",
        "           'EclipticLongitude',\n",
        "           'InitialAzimuthalAngleL',\n",
        "           'InitialPolarAngleL',\n",
        "           'Mass1',\n",
        "           'Mass2',\n",
        "           'ObservationDuration',\n",
        "           'PhaseAtCoalescence',\n",
        "           'PolarAngleOfSpin1',\n",
        "           'PolarAngleOfSpin2',\n",
        "           'Redshift',\n",
        "           'Spin1',\n",
        "           'Spin2')"
      ],
      "execution_count": 0,
      "outputs": []
    },
    {
      "metadata": {
        "id": "RpME9Y3dCNiV",
        "colab_type": "code",
        "colab": {}
      },
      "cell_type": "code",
      "source": [
        "df = pandas.DataFrame(data,columns=recarray.dtype.names)"
      ],
      "execution_count": 0,
      "outputs": []
    },
    {
      "metadata": {
        "id": "Lf-PS9y5Chqu",
        "colab_type": "code",
        "colab": {
          "base_uri": "https://localhost:8080/",
          "height": 384
        },
        "outputId": "6c7765a0-16c0-44f6-a2b3-c2abcdab8038"
      },
      "cell_type": "code",
      "source": [
        "df"
      ],
      "execution_count": 85,
      "outputs": [
        {
          "output_type": "execute_result",
          "data": {
            "text/html": [
              "<div>\n",
              "<style scoped>\n",
              "    .dataframe tbody tr th:only-of-type {\n",
              "        vertical-align: middle;\n",
              "    }\n",
              "\n",
              "    .dataframe tbody tr th {\n",
              "        vertical-align: top;\n",
              "    }\n",
              "\n",
              "    .dataframe thead th {\n",
              "        text-align: right;\n",
              "    }\n",
              "</style>\n",
              "<table border=\"1\" class=\"dataframe\">\n",
              "  <thead>\n",
              "    <tr style=\"text-align: right;\">\n",
              "      <th></th>\n",
              "      <th>AzimuthalAngleOfSpin1</th>\n",
              "      <th>AzimuthalAngleOfSpin2</th>\n",
              "      <th>CoalescenceTime</th>\n",
              "      <th>Distance</th>\n",
              "      <th>EclipticLatitude</th>\n",
              "      <th>EclipticLongitude</th>\n",
              "      <th>InitialAzimuthalAngleL</th>\n",
              "      <th>InitialPolarAngleL</th>\n",
              "      <th>Mass1</th>\n",
              "      <th>Mass2</th>\n",
              "      <th>ObservationDuration</th>\n",
              "      <th>PhaseAtCoalescence</th>\n",
              "      <th>PolarAngleOfSpin1</th>\n",
              "      <th>PolarAngleOfSpin2</th>\n",
              "      <th>Redshift</th>\n",
              "      <th>Spin1</th>\n",
              "      <th>Spin2</th>\n",
              "    </tr>\n",
              "  </thead>\n",
              "  <tbody>\n",
              "    <tr>\n",
              "      <th>0</th>\n",
              "      <td>4.890882</td>\n",
              "      <td>1.546006</td>\n",
              "      <td>4.324656e+06</td>\n",
              "      <td>25.642846</td>\n",
              "      <td>1.219490</td>\n",
              "      <td>4.686341</td>\n",
              "      <td>1.274006</td>\n",
              "      <td>1.333057</td>\n",
              "      <td>1.784702e+06</td>\n",
              "      <td>457182.771874</td>\n",
              "      <td>5.881719e+06</td>\n",
              "      <td>1.521283</td>\n",
              "      <td>0.0</td>\n",
              "      <td>0.0</td>\n",
              "      <td>2.962216</td>\n",
              "      <td>0.416400</td>\n",
              "      <td>1.034399</td>\n",
              "    </tr>\n",
              "    <tr>\n",
              "      <th>1</th>\n",
              "      <td>8.684165</td>\n",
              "      <td>1.405211</td>\n",
              "      <td>1.037644e+07</td>\n",
              "      <td>60.830852</td>\n",
              "      <td>1.297042</td>\n",
              "      <td>5.052144</td>\n",
              "      <td>1.461447</td>\n",
              "      <td>2.230005</td>\n",
              "      <td>2.363374e+06</td>\n",
              "      <td>495400.170130</td>\n",
              "      <td>1.017095e+07</td>\n",
              "      <td>1.464960</td>\n",
              "      <td>0.0</td>\n",
              "      <td>0.0</td>\n",
              "      <td>6.699157</td>\n",
              "      <td>0.782320</td>\n",
              "      <td>0.735225</td>\n",
              "    </tr>\n",
              "    <tr>\n",
              "      <th>2</th>\n",
              "      <td>8.384341</td>\n",
              "      <td>2.457729</td>\n",
              "      <td>4.344303e+06</td>\n",
              "      <td>37.274352</td>\n",
              "      <td>1.076612</td>\n",
              "      <td>3.586182</td>\n",
              "      <td>1.503038</td>\n",
              "      <td>1.140947</td>\n",
              "      <td>1.233043e+06</td>\n",
              "      <td>547161.515403</td>\n",
              "      <td>8.516245e+06</td>\n",
              "      <td>1.502195</td>\n",
              "      <td>0.0</td>\n",
              "      <td>0.0</td>\n",
              "      <td>6.601708</td>\n",
              "      <td>0.689885</td>\n",
              "      <td>1.088909</td>\n",
              "    </tr>\n",
              "    <tr>\n",
              "      <th>3</th>\n",
              "      <td>4.105719</td>\n",
              "      <td>1.048610</td>\n",
              "      <td>8.080663e+06</td>\n",
              "      <td>41.091908</td>\n",
              "      <td>1.223390</td>\n",
              "      <td>3.231136</td>\n",
              "      <td>1.391590</td>\n",
              "      <td>2.696245</td>\n",
              "      <td>2.193868e+06</td>\n",
              "      <td>461803.557497</td>\n",
              "      <td>9.495134e+06</td>\n",
              "      <td>1.475496</td>\n",
              "      <td>0.0</td>\n",
              "      <td>0.0</td>\n",
              "      <td>4.853811</td>\n",
              "      <td>1.036606</td>\n",
              "      <td>1.149902</td>\n",
              "    </tr>\n",
              "    <tr>\n",
              "      <th>4</th>\n",
              "      <td>3.128873</td>\n",
              "      <td>1.474468</td>\n",
              "      <td>5.742248e+06</td>\n",
              "      <td>39.440325</td>\n",
              "      <td>0.580145</td>\n",
              "      <td>4.889515</td>\n",
              "      <td>0.580046</td>\n",
              "      <td>2.200083</td>\n",
              "      <td>1.719800e+06</td>\n",
              "      <td>362300.531016</td>\n",
              "      <td>1.080822e+07</td>\n",
              "      <td>1.195936</td>\n",
              "      <td>0.0</td>\n",
              "      <td>0.0</td>\n",
              "      <td>6.526423</td>\n",
              "      <td>0.649941</td>\n",
              "      <td>1.023411</td>\n",
              "    </tr>\n",
              "    <tr>\n",
              "      <th>5</th>\n",
              "      <td>4.840162</td>\n",
              "      <td>1.287469</td>\n",
              "      <td>5.207250e+06</td>\n",
              "      <td>38.581400</td>\n",
              "      <td>0.558526</td>\n",
              "      <td>5.109236</td>\n",
              "      <td>0.683557</td>\n",
              "      <td>1.389419</td>\n",
              "      <td>1.393153e+06</td>\n",
              "      <td>821974.401768</td>\n",
              "      <td>8.954927e+06</td>\n",
              "      <td>0.881413</td>\n",
              "      <td>0.0</td>\n",
              "      <td>0.0</td>\n",
              "      <td>6.539254</td>\n",
              "      <td>0.793115</td>\n",
              "      <td>0.695768</td>\n",
              "    </tr>\n",
              "    <tr>\n",
              "      <th>6</th>\n",
              "      <td>7.184024</td>\n",
              "      <td>1.588363</td>\n",
              "      <td>3.767150e+06</td>\n",
              "      <td>60.085005</td>\n",
              "      <td>1.113684</td>\n",
              "      <td>4.904328</td>\n",
              "      <td>0.926688</td>\n",
              "      <td>1.512079</td>\n",
              "      <td>2.109668e+06</td>\n",
              "      <td>479308.434583</td>\n",
              "      <td>9.093809e+06</td>\n",
              "      <td>0.662269</td>\n",
              "      <td>0.0</td>\n",
              "      <td>0.0</td>\n",
              "      <td>3.231260</td>\n",
              "      <td>0.517468</td>\n",
              "      <td>1.145314</td>\n",
              "    </tr>\n",
              "    <tr>\n",
              "      <th>7</th>\n",
              "      <td>4.107439</td>\n",
              "      <td>1.591007</td>\n",
              "      <td>8.394047e+06</td>\n",
              "      <td>55.528147</td>\n",
              "      <td>0.742843</td>\n",
              "      <td>2.512136</td>\n",
              "      <td>1.563317</td>\n",
              "      <td>2.080910</td>\n",
              "      <td>2.198705e+06</td>\n",
              "      <td>380877.951178</td>\n",
              "      <td>5.105925e+06</td>\n",
              "      <td>0.926601</td>\n",
              "      <td>0.0</td>\n",
              "      <td>0.0</td>\n",
              "      <td>4.535455</td>\n",
              "      <td>0.935765</td>\n",
              "      <td>0.901411</td>\n",
              "    </tr>\n",
              "    <tr>\n",
              "      <th>8</th>\n",
              "      <td>4.303055</td>\n",
              "      <td>1.270450</td>\n",
              "      <td>3.588120e+06</td>\n",
              "      <td>24.445935</td>\n",
              "      <td>1.295989</td>\n",
              "      <td>2.379520</td>\n",
              "      <td>0.847418</td>\n",
              "      <td>1.459864</td>\n",
              "      <td>1.520445e+06</td>\n",
              "      <td>522739.016187</td>\n",
              "      <td>8.075306e+06</td>\n",
              "      <td>1.444576</td>\n",
              "      <td>0.0</td>\n",
              "      <td>0.0</td>\n",
              "      <td>6.659768</td>\n",
              "      <td>0.564464</td>\n",
              "      <td>1.334878</td>\n",
              "    </tr>\n",
              "    <tr>\n",
              "      <th>9</th>\n",
              "      <td>6.581165</td>\n",
              "      <td>2.819646</td>\n",
              "      <td>5.947291e+06</td>\n",
              "      <td>41.584167</td>\n",
              "      <td>0.997041</td>\n",
              "      <td>3.101836</td>\n",
              "      <td>0.953646</td>\n",
              "      <td>1.432784</td>\n",
              "      <td>2.324169e+06</td>\n",
              "      <td>773970.120014</td>\n",
              "      <td>5.594228e+06</td>\n",
              "      <td>1.216969</td>\n",
              "      <td>0.0</td>\n",
              "      <td>0.0</td>\n",
              "      <td>4.432040</td>\n",
              "      <td>0.795874</td>\n",
              "      <td>1.130232</td>\n",
              "    </tr>\n",
              "  </tbody>\n",
              "</table>\n",
              "</div>"
            ],
            "text/plain": [
              "   AzimuthalAngleOfSpin1  AzimuthalAngleOfSpin2  CoalescenceTime   Distance  \\\n",
              "0               4.890882               1.546006     4.324656e+06  25.642846   \n",
              "1               8.684165               1.405211     1.037644e+07  60.830852   \n",
              "2               8.384341               2.457729     4.344303e+06  37.274352   \n",
              "3               4.105719               1.048610     8.080663e+06  41.091908   \n",
              "4               3.128873               1.474468     5.742248e+06  39.440325   \n",
              "5               4.840162               1.287469     5.207250e+06  38.581400   \n",
              "6               7.184024               1.588363     3.767150e+06  60.085005   \n",
              "7               4.107439               1.591007     8.394047e+06  55.528147   \n",
              "8               4.303055               1.270450     3.588120e+06  24.445935   \n",
              "9               6.581165               2.819646     5.947291e+06  41.584167   \n",
              "\n",
              "   EclipticLatitude  EclipticLongitude  InitialAzimuthalAngleL  \\\n",
              "0          1.219490           4.686341                1.274006   \n",
              "1          1.297042           5.052144                1.461447   \n",
              "2          1.076612           3.586182                1.503038   \n",
              "3          1.223390           3.231136                1.391590   \n",
              "4          0.580145           4.889515                0.580046   \n",
              "5          0.558526           5.109236                0.683557   \n",
              "6          1.113684           4.904328                0.926688   \n",
              "7          0.742843           2.512136                1.563317   \n",
              "8          1.295989           2.379520                0.847418   \n",
              "9          0.997041           3.101836                0.953646   \n",
              "\n",
              "   InitialPolarAngleL         Mass1          Mass2  ObservationDuration  \\\n",
              "0            1.333057  1.784702e+06  457182.771874         5.881719e+06   \n",
              "1            2.230005  2.363374e+06  495400.170130         1.017095e+07   \n",
              "2            1.140947  1.233043e+06  547161.515403         8.516245e+06   \n",
              "3            2.696245  2.193868e+06  461803.557497         9.495134e+06   \n",
              "4            2.200083  1.719800e+06  362300.531016         1.080822e+07   \n",
              "5            1.389419  1.393153e+06  821974.401768         8.954927e+06   \n",
              "6            1.512079  2.109668e+06  479308.434583         9.093809e+06   \n",
              "7            2.080910  2.198705e+06  380877.951178         5.105925e+06   \n",
              "8            1.459864  1.520445e+06  522739.016187         8.075306e+06   \n",
              "9            1.432784  2.324169e+06  773970.120014         5.594228e+06   \n",
              "\n",
              "   PhaseAtCoalescence  PolarAngleOfSpin1  PolarAngleOfSpin2  Redshift  \\\n",
              "0            1.521283                0.0                0.0  2.962216   \n",
              "1            1.464960                0.0                0.0  6.699157   \n",
              "2            1.502195                0.0                0.0  6.601708   \n",
              "3            1.475496                0.0                0.0  4.853811   \n",
              "4            1.195936                0.0                0.0  6.526423   \n",
              "5            0.881413                0.0                0.0  6.539254   \n",
              "6            0.662269                0.0                0.0  3.231260   \n",
              "7            0.926601                0.0                0.0  4.535455   \n",
              "8            1.444576                0.0                0.0  6.659768   \n",
              "9            1.216969                0.0                0.0  4.432040   \n",
              "\n",
              "      Spin1     Spin2  \n",
              "0  0.416400  1.034399  \n",
              "1  0.782320  0.735225  \n",
              "2  0.689885  1.088909  \n",
              "3  1.036606  1.149902  \n",
              "4  0.649941  1.023411  \n",
              "5  0.793115  0.695768  \n",
              "6  0.517468  1.145314  \n",
              "7  0.935765  0.901411  \n",
              "8  0.564464  1.334878  \n",
              "9  0.795874  1.130232  "
            ]
          },
          "metadata": {
            "tags": []
          },
          "execution_count": 85
        }
      ]
    },
    {
      "metadata": {
        "id": "gEZRT2BOCuXo",
        "colab_type": "code",
        "colab": {}
      },
      "cell_type": "code",
      "source": [
        "df.to_csv('mbhb-1-pdf.csv',index=False)"
      ],
      "execution_count": 0,
      "outputs": []
    },
    {
      "metadata": {
        "id": "yS789uTPC0hB",
        "colab_type": "code",
        "colab": {
          "base_uri": "https://localhost:8080/",
          "height": 265
        },
        "outputId": "cc4845c5-6dd5-44b2-ef08-f53e2a338a83"
      },
      "cell_type": "code",
      "source": [
        "!cat mbhb-1-pdf.csv"
      ],
      "execution_count": 89,
      "outputs": [
        {
          "output_type": "stream",
          "text": [
            "AzimuthalAngleOfSpin1,AzimuthalAngleOfSpin2,CoalescenceTime,Distance,EclipticLatitude,EclipticLongitude,InitialAzimuthalAngleL,InitialPolarAngleL,Mass1,Mass2,ObservationDuration,PhaseAtCoalescence,PolarAngleOfSpin1,PolarAngleOfSpin2,Redshift,Spin1,Spin2\n",
            "4.8908821708884735,1.5460060013664052,4324656.315551391,25.642845661320468,1.2194904729285574,4.686341474665391,1.2740061529649527,1.3330566174667695,1784701.939438695,457182.77187423554,5881719.4575513,1.5212830832967217,0.0,0.0,2.9622155601664737,0.41639953501916444,1.0343992643675077\n",
            "8.684164994336445,1.4052110735792605,10376435.507735997,60.83085168324085,1.297041674145907,5.052143572047124,1.4614466300160274,2.2300049033571883,2363373.79770696,495400.17013027763,10170946.401273597,1.4649598745060766,0.0,0.0,6.699156916238389,0.7823199513909396,0.735225436712713\n",
            "8.38434101405832,2.4577287030423856,4344303.48363407,37.27435214416811,1.0766116453698937,3.5861815768819127,1.5030376452206242,1.1409467862106235,1233042.6989602582,547161.5154032222,8516245.301316261,1.50219513263902,0.0,0.0,6.601707574372206,0.6898851017760474,1.08890865539006\n",
            "4.105718839027102,1.048610102483512,8080662.914447719,41.09190763200143,1.223390106058258,3.2311360158146374,1.3915896123111615,2.6962450292775566,2193867.6673531863,461803.5574972181,9495133.821201583,1.475495896233835,0.0,0.0,4.853810737440546,1.0366064177036767,1.1499016260791415\n",
            "3.1288733319513997,1.474468061212711,5742248.26388303,39.44032467967417,0.5801450090513351,4.889514611216915,0.5800464016371374,2.2000832500671157,1719799.9549116236,362300.53101553954,10808215.653716074,1.1959359110805288,0.0,0.0,6.52642314533135,0.6499408988225679,1.0234107106005539\n",
            "4.840162095744612,1.2874693739375516,5207249.504983292,38.58139966701306,0.5585257036072303,5.109235557541615,0.6835565851108776,1.3894193362618754,1393152.565941811,821974.4017675591,8954926.546863833,0.8814127196192482,0.0,0.0,6.539253904402884,0.7931146901533852,0.6957682582093728\n",
            "7.184024275861983,1.5883628344291574,3767150.264467211,60.08500489611168,1.1136839792403004,4.904327625115061,0.9266884338914609,1.5120793832933936,2109668.4548874456,479308.4345831946,9093809.392609451,0.6622686104231106,0.0,0.0,3.2312601393799056,0.5174682267061629,1.1453143797996632\n",
            "4.107439318935789,1.5910065343637594,8394046.698290702,55.52814691200299,0.7428434153639929,2.5121356286665364,1.5633165906867512,2.0809097677407378,2198704.9103707555,380877.95117818407,5105925.196598402,0.9266007424306463,0.0,0.0,4.535455276658778,0.9357650170042532,0.9014108959808038\n",
            "4.303055435848317,1.2704504592906316,3588119.9602917153,24.445935419462494,1.29598883186431,2.3795204550314004,0.8474183512639252,1.4598637842776494,1520444.7403628854,522739.0161866422,8075305.94559643,1.4445763807919985,0.0,0.0,6.659767886104075,0.5644639400104602,1.3348777396087947\n",
            "6.5811650487897975,2.8196456389675912,5947291.389861457,41.58416698591603,0.9970408540437337,3.1018356255765815,0.9536458778321061,1.4327838283774479,2324168.7104270733,773970.1200140833,5594227.950088419,1.2169689092507545,0.0,0.0,4.432040213974238,0.795873853220179,1.1302318107205973\n"
          ],
          "name": "stdout"
        }
      ]
    }
  ]
}